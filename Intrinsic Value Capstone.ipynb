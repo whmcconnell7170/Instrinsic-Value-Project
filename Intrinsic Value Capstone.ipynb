{
 "cells": [
  {
   "cell_type": "code",
   "execution_count": 50,
   "id": "0eee577c",
   "metadata": {},
   "outputs": [],
   "source": [
    "from IPython.display import IFrame"
   ]
  },
  {
   "cell_type": "code",
   "execution_count": 54,
   "id": "eb37c8d0",
   "metadata": {},
   "outputs": [
    {
     "data": {
      "text/html": [
       "\n",
       "        <iframe\n",
       "            width=\"800\"\n",
       "            height=\"450\"\n",
       "            src=\"https://finnhub.io/dashboard\"\n",
       "            frameborder=\"0\"\n",
       "            allowfullscreen\n",
       "            \n",
       "        ></iframe>\n",
       "        "
      ],
      "text/plain": [
       "<IPython.lib.display.IFrame at 0x206c0528c90>"
      ]
     },
     "execution_count": 54,
     "metadata": {},
     "output_type": "execute_result"
    }
   ],
   "source": [
    "IFrame('https://finnhub.io/dashboard', width = 800, height = 450)"
   ]
  },
  {
   "cell_type": "markdown",
   "id": "f43d3015",
   "metadata": {},
   "source": [
    "## Path 1 uses a Finnhub API Key (not provided here). If you have a finnhub API key, enter it below and proceed\n",
    "\n",
    "### Otherwise, scroll down to Path Two to follow the same process with the provided CSVs\n"
   ]
  },
  {
   "cell_type": "markdown",
   "id": "aa9ae1d9",
   "metadata": {},
   "source": [
    "## Path 1:"
   ]
  },
  {
   "cell_type": "markdown",
   "id": "8921462b",
   "metadata": {},
   "source": [
    "### Import Packages"
   ]
  },
  {
   "cell_type": "code",
   "execution_count": 1,
   "id": "1081b5ab",
   "metadata": {},
   "outputs": [],
   "source": [
    "#import tkinter as tk\n",
    "#from tkinter import messagebox\n",
    "import requests\n",
    "from bs4 import BeautifulSoup\n",
    "import finnhub\n",
    "import json\n",
    "import pandas as pd\n",
    "import matplotlib\n",
    "import matplotlib.pyplot as plt \n",
    "import numpy as np\n"
   ]
  },
  {
   "cell_type": "code",
   "execution_count": 2,
   "id": "1db16189",
   "metadata": {},
   "outputs": [],
   "source": [
    "apikey = \"your_api_key\""
   ]
  },
  {
   "cell_type": "markdown",
   "id": "ca8e1d77",
   "metadata": {},
   "source": [
    "### Ticker Selection"
   ]
  },
  {
   "cell_type": "markdown",
   "id": "c7fa340b",
   "metadata": {},
   "source": [
    "#### The filter_tickers_with_peTTM checks whether each ticker in the user-entered list has a Price to Earnings ratio. Because PE is needed to calculate intrinsic value, any tickers without a PE are removed from the list."
   ]
  },
  {
   "cell_type": "markdown",
   "id": "ba3e4a08",
   "metadata": {},
   "source": [
    "Finnhub is limited to 60 API Calls per minute, please limit list to under four tickers"
   ]
  },
  {
   "cell_type": "code",
   "execution_count": 38,
   "id": "9fb09e62",
   "metadata": {},
   "outputs": [
    {
     "name": "stdout",
     "output_type": "stream",
     "text": [
      "Enter Ticker or type 'stop'AAPL\n",
      "Enter Ticker or type 'stop'AMZN\n",
      "Enter Ticker or type 'stop'NOC\n",
      "Enter Ticker or type 'stop'HAE\n",
      "Enter Ticker or type 'stop'RKLB\n",
      "Enter Ticker or type 'stop'stop\n",
      "Selected tickers:  ['AAPL', 'AMZN', 'NOC', 'HAE', 'RKLB']\n",
      "Filtered tickers with 'peTTM': ['AAPL', 'AMZN', 'NOC', 'HAE']\n"
     ]
    }
   ],
   "source": [
    "#user inputs stock list\n",
    "#input continues until stop command evoked\n",
    "ticker_list = []\n",
    "while True:\n",
    "    ticker_selection = input(\"Enter Ticker or type 'stop'\").upper()\n",
    "    ticker_list.append(ticker_selection)\n",
    "    if ticker_selection == \"STOP\":\n",
    "        break\n",
    "ticker_list = ticker_list[:-1]\n",
    "print('Selected tickers: ', ticker_list)\n",
    "\n",
    "def filter_tickers_with_peTTM(ticker_list):\n",
    "    valid_tickers = []\n",
    "\n",
    "    for ticker in ticker_list:\n",
    "        try:\n",
    "            financials = finnhub.Client(api_key=apikey).company_basic_financials(ticker, 'all')\n",
    "            peTTM = financials.get('metric', {}).get('peTTM')\n",
    "            if peTTM is not None:\n",
    "                valid_tickers.append(ticker)\n",
    "        except Exception as e:\n",
    "            print(f\"Error for {ticker}: {str(e)}\")\n",
    "\n",
    "    return valid_tickers\n",
    "\n",
    "filtered_tickers = filter_tickers_with_peTTM(ticker_list)\n",
    "\n",
    "if not filtered_tickers:\n",
    "    print(\"No tickers with 'peTTM' found.\")\n",
    "else:\n",
    "    print(f\"Filtered tickers with 'peTTM': {filtered_tickers}\")\n"
   ]
  },
  {
   "cell_type": "code",
   "execution_count": 19,
   "id": "918aee0a",
   "metadata": {},
   "outputs": [
    {
     "name": "stdout",
     "output_type": "stream",
     "text": [
      "2.190\n"
     ]
    }
   ],
   "source": [
    "#this request establishes market constants to be evaluated against filtered_tickers \n",
    "\n",
    "#United States Treasury API pulls TNote rate\n",
    "treasuryurl = 'https://api.fiscaldata.treasury.gov/services/api/fiscal_service/v2/accounting/od/avg_interest_rates?fields=avg_interest_rate_amt&filter=record_date:eq:2023-10-31,security_desc:eq:Treasury Notes'\n",
    "response = requests.get(treasuryurl)\n",
    "data = response.json()\n",
    "rate = data['data'][0]['avg_interest_rate_amt']\n",
    "print(rate)\n"
   ]
  },
  {
   "cell_type": "markdown",
   "id": "f9ce18c0",
   "metadata": {},
   "source": [
    "### Primary Calculations via API requests begin here: Open Price, Current Price, Earnings per Share, and Price to Earnings."
   ]
  },
  {
   "cell_type": "code",
   "execution_count": 20,
   "id": "c66e37c7",
   "metadata": {},
   "outputs": [],
   "source": [
    "#this set of requests establishes Company Metrics to be evaluated against filtered_tickers \n",
    "\n",
    "#Finnhub API requests financial metrics and share price\n",
    "def opfunc(ticker):\n",
    "    finnhub_client = finnhub.Client(api_key=apikey)\n",
    "    financials = finnhub_client.company_basic_financials(ticker, 'all')\n",
    "    quote = finnhub_client.quote(ticker)\n",
    "    return float(quote['o'])\n",
    "\n",
    "def cpfunc(ticker):\n",
    "    finnhub_client = finnhub.Client(api_key=apikey)\n",
    "    financials = finnhub_client.company_basic_financials(ticker, 'all')\n",
    "    quote = finnhub_client.quote(ticker)\n",
    "    return float(quote['c'])\n",
    "\n",
    "def epsfunc(ticker):\n",
    "    finnhub_client = finnhub.Client(api_key=apikey)\n",
    "    financials = finnhub_client.company_basic_financials(ticker, 'all')\n",
    "    quote = finnhub_client.quote(ticker)\n",
    "    return float(financials['metric']['epsTTM'])\n",
    "\n",
    "def pefunc(ticker):\n",
    "    finnhub_client = finnhub.Client(api_key=apikey)\n",
    "    financials = finnhub_client.company_basic_financials(ticker, 'all')\n",
    "    quote = finnhub_client.quote(ticker)\n",
    "    return float(financials['metric']['peTTM'])\n",
    "\n",
    "\n"
   ]
  },
  {
   "cell_type": "markdown",
   "id": "3639ad02",
   "metadata": {},
   "source": [
    "### Five year growth projections are scraped via beautiful soup for each item in the list."
   ]
  },
  {
   "cell_type": "code",
   "execution_count": 21,
   "id": "fdea6f97",
   "metadata": {},
   "outputs": [],
   "source": [
    "# Yahoo Finance scrape for 5-year projections\n",
    "def fiveyear(ticker):\n",
    "    ybaseurl = 'https://finance.yahoo.com/quote/' + ticker + '/analysis?p=' + ticker\n",
    "    headers = {'User-Agent': 'Mozilla/5.0 (Windows NT 10.0; Win64; x64; rv:109.0) Gecko/20100101 Firefox/113.0'}\n",
    "    r = requests.get(ybaseurl, headers=headers)\n",
    "    soup = BeautifulSoup(r.text, 'html.parser')\n",
    "    forecast = soup.find('section', {'class': 'smartphone_Px(20px) smartphone_Pt(10px)'}).text\n",
    "\n",
    "    nfy = forecast.find('Next 5 Years (per annum)')\n",
    "    startindex = nfy + 24\n",
    "    endindex = forecast.find('%', startindex)\n",
    "    return float(forecast[startindex:endindex])\n"
   ]
  },
  {
   "cell_type": "markdown",
   "id": "8afe1d29",
   "metadata": {},
   "source": [
    "### Intrinsic Value, Buy Price, and Recommendations Calculated"
   ]
  },
  {
   "cell_type": "code",
   "execution_count": 41,
   "id": "b356024d",
   "metadata": {},
   "outputs": [],
   "source": [
    "# Calculate\n",
    "# Intrinsic Value\n",
    "\n",
    "def intV(ticker):\n",
    "    return epsfunc(i) * (1 + (fiveyear(i) * 0.01 * 0.75)) * pefunc(i)\n",
    "\n",
    "#Buy Price\n",
    "def bp(ticker):\n",
    "    return round(0.75 * intV(i), 2)\n",
    "\n",
    "# Recommendations\n",
    "def rec(ticker):\n",
    "    if cpfunc(i) < intV(i) and cpfunc(i) >= bp(i):\n",
    "        return 'Soft Buy'\n",
    "    elif cpfunc(i) < bp(i):\n",
    "        return 'Strong Buy'\n",
    "    else:\n",
    "        return 'No Buy'\n"
   ]
  },
  {
   "cell_type": "markdown",
   "id": "4107f942",
   "metadata": {},
   "source": [
    "### Previous functions are called and the results  are gathered into a dictionary with the tickers as keys - then converted to a Pandas DF."
   ]
  },
  {
   "cell_type": "code",
   "execution_count": 42,
   "id": "b0f336a4",
   "metadata": {},
   "outputs": [
    {
     "name": "stdout",
     "output_type": "stream",
     "text": [
      "     open price current price price to earnings earnings per share  \\\n",
      "AAPL    187.845      188.7578           30.2236             6.1296   \n",
      "AMZN     147.06        143.44           75.0387             1.9155   \n",
      "NOC       466.0       465.037           15.0705            30.4533   \n",
      "HAE        89.2        89.535            35.178             2.5072   \n",
      "\n",
      "     five year projection intrinsic value Buy price recommendation  \n",
      "AAPL                 6.14      193.789736    145.34       Soft Buy  \n",
      "AMZN                 87.0      237.524781    178.14     Strong Buy  \n",
      "NOC                   1.9      465.486445    349.11       Soft Buy  \n",
      "HAE                  10.0       94.813153     71.11       Soft Buy  \n"
     ]
    }
   ],
   "source": [
    "#Creating aggregated DF\n",
    "\n",
    "#df = pd.DataFrame(columns = ['Ticker', 'Open Price', 'Current Price', 'Earnings per Share', 'Price to Earning Ratio'])\n",
    "tickerdict = {}\n",
    "for i in filtered_tickers :\n",
    "    tickerdict[i] = opfunc(i), cpfunc(i), pefunc(i), epsfunc(i), fiveyear(i), intV(i), bp(i), rec(i)\n",
    "#print(testdict)\n",
    "#df = pd.DataFrame(columns = ['ticker', '', 'current price', 'price to earnings', 'earnings per share', '5-year projection'])    \n",
    "df = pd.DataFrame.from_dict(tickerdict)\n",
    "df= df.T\n",
    "df = df.rename(columns={0: 'open price', 1: 'current price', 2: 'price to earnings', 3: 'earnings per share', 4: 'five year projection', 5: 'intrinsic value', 6: 'Buy price', 7: 'recommendation'})\n",
    "print(df)\n",
    "#df.to_csv('ATAM.csv')"
   ]
  },
  {
   "cell_type": "markdown",
   "id": "05fd7903",
   "metadata": {},
   "source": [
    "### Added calculation to determine what percent of your investable cash should be allocated to your selected firm."
   ]
  },
  {
   "cell_type": "code",
   "execution_count": 43,
   "id": "f221e417",
   "metadata": {},
   "outputs": [
    {
     "data": {
      "text/html": [
       "<div>\n",
       "<style scoped>\n",
       "    .dataframe tbody tr th:only-of-type {\n",
       "        vertical-align: middle;\n",
       "    }\n",
       "\n",
       "    .dataframe tbody tr th {\n",
       "        vertical-align: top;\n",
       "    }\n",
       "\n",
       "    .dataframe thead th {\n",
       "        text-align: right;\n",
       "    }\n",
       "</style>\n",
       "<table border=\"1\" class=\"dataframe\">\n",
       "  <thead>\n",
       "    <tr style=\"text-align: right;\">\n",
       "      <th></th>\n",
       "      <th>open price</th>\n",
       "      <th>current price</th>\n",
       "      <th>price to earnings</th>\n",
       "      <th>earnings per share</th>\n",
       "      <th>five year projection</th>\n",
       "      <th>intrinsic value</th>\n",
       "      <th>Buy price</th>\n",
       "      <th>recommendation</th>\n",
       "      <th>% allocation</th>\n",
       "    </tr>\n",
       "  </thead>\n",
       "  <tbody>\n",
       "    <tr>\n",
       "      <th>AAPL</th>\n",
       "      <td>187.845</td>\n",
       "      <td>188.7578</td>\n",
       "      <td>30.2236</td>\n",
       "      <td>6.1296</td>\n",
       "      <td>6.14</td>\n",
       "      <td>193.789736</td>\n",
       "      <td>145.34</td>\n",
       "      <td>Soft Buy</td>\n",
       "      <td>20.0</td>\n",
       "    </tr>\n",
       "    <tr>\n",
       "      <th>AMZN</th>\n",
       "      <td>147.06</td>\n",
       "      <td>143.44</td>\n",
       "      <td>75.0387</td>\n",
       "      <td>1.9155</td>\n",
       "      <td>87.0</td>\n",
       "      <td>237.524781</td>\n",
       "      <td>178.14</td>\n",
       "      <td>Strong Buy</td>\n",
       "      <td>40.0</td>\n",
       "    </tr>\n",
       "    <tr>\n",
       "      <th>NOC</th>\n",
       "      <td>466.0</td>\n",
       "      <td>465.037</td>\n",
       "      <td>15.0705</td>\n",
       "      <td>30.4533</td>\n",
       "      <td>1.9</td>\n",
       "      <td>465.486445</td>\n",
       "      <td>349.11</td>\n",
       "      <td>Soft Buy</td>\n",
       "      <td>20.0</td>\n",
       "    </tr>\n",
       "    <tr>\n",
       "      <th>HAE</th>\n",
       "      <td>89.2</td>\n",
       "      <td>89.535</td>\n",
       "      <td>35.178</td>\n",
       "      <td>2.5072</td>\n",
       "      <td>10.0</td>\n",
       "      <td>94.813153</td>\n",
       "      <td>71.11</td>\n",
       "      <td>Soft Buy</td>\n",
       "      <td>20.0</td>\n",
       "    </tr>\n",
       "  </tbody>\n",
       "</table>\n",
       "</div>"
      ],
      "text/plain": [
       "     open price current price price to earnings earnings per share  \\\n",
       "AAPL    187.845      188.7578           30.2236             6.1296   \n",
       "AMZN     147.06        143.44           75.0387             1.9155   \n",
       "NOC       466.0       465.037           15.0705            30.4533   \n",
       "HAE        89.2        89.535            35.178             2.5072   \n",
       "\n",
       "     five year projection intrinsic value Buy price recommendation  \\\n",
       "AAPL                 6.14      193.789736    145.34       Soft Buy   \n",
       "AMZN                 87.0      237.524781    178.14     Strong Buy   \n",
       "NOC                   1.9      465.486445    349.11       Soft Buy   \n",
       "HAE                  10.0       94.813153     71.11       Soft Buy   \n",
       "\n",
       "      % allocation  \n",
       "AAPL          20.0  \n",
       "AMZN          40.0  \n",
       "NOC           20.0  \n",
       "HAE           20.0  "
      ]
     },
     "execution_count": 43,
     "metadata": {},
     "output_type": "execute_result"
    }
   ],
   "source": [
    "\n",
    "df['% allocation'] = 0  # Initialize the column with zeros\n",
    "df.loc[df['recommendation'] == 'No Buy', '% allocation'] = 0\n",
    "df.loc[df['recommendation'] == 'Soft Buy', '% allocation'] = 1\n",
    "df.loc[df['recommendation'] == 'Strong Buy', '% allocation'] = 2\n",
    "total_allocation = df['% allocation'].sum()\n",
    "df['% allocation'] = round(df['% allocation'] / total_allocation * 100, 2)\n",
    "df.head()"
   ]
  },
  {
   "cell_type": "markdown",
   "id": "f7924152",
   "metadata": {},
   "source": [
    "## Visuals"
   ]
  },
  {
   "cell_type": "markdown",
   "id": "051ff7ae",
   "metadata": {},
   "source": [
    "These candles represent the open price versus the current price (dummy numbers in the CSV). Green indicates positive price action, red indicates negative price action.\n",
    "\n",
    "Y axis labels represent open and current prices"
   ]
  },
  {
   "cell_type": "code",
   "execution_count": 44,
   "id": "bed8773a",
   "metadata": {},
   "outputs": [
    {
     "data": {
      "image/png": "[encoded data removed]",
      "text/plain": [
       "<Figure size 100x100 with 1 Axes>"
      ]
     },
     "metadata": {},
     "output_type": "display_data"
    },
    {
     "data": {
      "image/png": "[encoded data removed]",
      "text/plain": [
       "<Figure size 100x100 with 1 Axes>"
      ]
     },
     "metadata": {},
     "output_type": "display_data"
    },
    {
     "data": {
      "image/png": "[encoded data removed]",
      "text/plain": [
       "<Figure size 100x100 with 1 Axes>"
      ]
     },
     "metadata": {},
     "output_type": "display_data"
    },
    {
     "data": {
      "image/png": "[encoded data removed]",
      "text/plain": [
       "<Figure size 100x100 with 1 Axes>"
      ]
     },
     "metadata": {},
     "output_type": "display_data"
    }
   ],
   "source": [
    "#Candles at a glance\n",
    "\n",
    "color1 = 'green'\n",
    "color2 = 'red'\n",
    "width = 0.2 \n",
    "fig_size = (1, 1)\n",
    "\n",
    "# Iterate over rows and create individual plots\n",
    "for i, (index, row) in enumerate(df.iterrows()):\n",
    "    plt.figure(figsize=fig_size)  # Set the size of each plot\n",
    "    current_price = row['current price']\n",
    "    open_price = row['open price']\n",
    "    \n",
    "    if current_price >= open_price:\n",
    "        plt.bar(0, current_price - open_price, width, bottom=open_price, color=color1)\n",
    "    else:\n",
    "        plt.bar(0, open_price - current_price, width, bottom=current_price, color=color2)\n",
    "\n",
    "    plt.title(index)\n",
    "    ylim_lower = min(open_price, current_price) - 0.3 * abs(current_price - open_price)\n",
    "    ylim_upper = max(open_price, current_price) + 0.3 * abs(current_price - open_price)\n",
    "    plt.ylim(ylim_lower, ylim_upper)\n",
    "    plt.yticks([open_price, current_price])\n",
    "    plt.xticks([])\n",
    "    plt.show()\n",
    "\n"
   ]
  },
  {
   "cell_type": "markdown",
   "id": "faa893ae",
   "metadata": {},
   "source": [
    "### Buy price ratio simply indicates risk tolerance. As the proportion of the buy price to current price decreases, the likelihood that the share value (within the confines of this analysis) is inflated."
   ]
  },
  {
   "cell_type": "code",
   "execution_count": 45,
   "id": "68eece5e",
   "metadata": {},
   "outputs": [
    {
     "data": {
      "image/png": "[encoded data removed]",
      "text/plain": [
       "<Figure size 800x500 with 1 Axes>"
      ]
     },
     "metadata": {},
     "output_type": "display_data"
    }
   ],
   "source": [
    "#Buy Price to Current Price Ratio\n",
    "\n",
    "# Extracting row indices and recommendation values\n",
    "rows = df.index\n",
    "buy_price_ratio = df['Buy price'] / df['current price']\n",
    "\n",
    "# Sorting indices based on the buy price ratio in descending order\n",
    "sorted_indices = buy_price_ratio.argsort()[::-1]\n",
    "\n",
    "# Mapping recommendation categories to colors\n",
    "colors = {'Strong Buy': 'green', 'Soft Buy': 'lightblue', 'No Buy': 'red'}\n",
    "\n",
    "plt.figure(figsize=(8, 5))\n",
    "bars = plt.bar(rows[sorted_indices], buy_price_ratio[sorted_indices], color=[colors[rec] for rec in df['recommendation'][sorted_indices]], edgecolor='black')\n",
    "\n",
    "plt.title('Buy Price Ratio by Ticker')\n",
    "plt.xlabel('Ticker')\n",
    "plt.ylabel('Buy Price Ratio')\n",
    "\n",
    "for bar, ratio, rec in zip(bars, buy_price_ratio[sorted_indices], df['recommendation'][sorted_indices]):\n",
    "    plt.text(bar.get_x() + bar.get_width() / 2, bar.get_height(), f'{ratio:.2f}', ha='center', va='bottom', color='black', weight='bold')\n",
    "legend_handles = [plt.Rectangle((0, 0), 1, 1, color=colors[rec]) for rec in colors]\n",
    "plt.legend(legend_handles, colors.keys(), title='Recommendation', loc='lower right')\n",
    "\n",
    "plt.show()\n"
   ]
  },
  {
   "cell_type": "markdown",
   "id": "e7ddff58",
   "metadata": {},
   "source": [
    "### Adding a simple pie chart to represent suggested allocation of the analyzed tickers"
   ]
  },
  {
   "cell_type": "code",
   "execution_count": 46,
   "id": "eb361b31",
   "metadata": {},
   "outputs": [
    {
     "data": {
      "image/png": "[encoded data removed]",
      "text/plain": [
       "<Figure size 800x800 with 1 Axes>"
      ]
     },
     "metadata": {},
     "output_type": "display_data"
    }
   ],
   "source": [
    "filtered_ticker = df[df['% allocation'] > 0]\n",
    "\n",
    "plt.figure(figsize=(8, 8))\n",
    "plt.pie(filtered_ticker['% allocation'], labels=filtered_ticker.index, autopct='%1.1f%%', startangle=90, colors=['lightblue', 'green', 'orange', 'yellow'])\n",
    "plt.title('Equity Allocation')\n",
    "plt.show()\n"
   ]
  },
  {
   "cell_type": "code",
   "execution_count": null,
   "id": "0d086016",
   "metadata": {},
   "outputs": [],
   "source": []
  },
  {
   "cell_type": "markdown",
   "id": "b4436c57",
   "metadata": {},
   "source": [
    "## Path 2"
   ]
  },
  {
   "cell_type": "markdown",
   "id": "32ce5f35",
   "metadata": {},
   "source": [
    "#### Import Packages"
   ]
  },
  {
   "cell_type": "markdown",
   "id": "e3730581",
   "metadata": {},
   "source": [
    "### Choose any Combination of 'AMZN', 'AAPL', 'TSLA', and 'MPC'"
   ]
  },
  {
   "cell_type": "code",
   "execution_count": 38,
   "id": "9ffe9c10",
   "metadata": {},
   "outputs": [
    {
     "name": "stdout",
     "output_type": "stream",
     "text": [
      "Enter a combination of stock names (comma-separated): AMZN, AAPL, TSLA, MPC\n"
     ]
    },
    {
     "data": {
      "text/html": [
       "<div>\n",
       "<style scoped>\n",
       "    .dataframe tbody tr th:only-of-type {\n",
       "        vertical-align: middle;\n",
       "    }\n",
       "\n",
       "    .dataframe tbody tr th {\n",
       "        vertical-align: top;\n",
       "    }\n",
       "\n",
       "    .dataframe thead th {\n",
       "        text-align: right;\n",
       "    }\n",
       "</style>\n",
       "<table border=\"1\" class=\"dataframe\">\n",
       "  <thead>\n",
       "    <tr style=\"text-align: right;\">\n",
       "      <th></th>\n",
       "      <th>Unnamed: 0</th>\n",
       "      <th>open price</th>\n",
       "      <th>current price</th>\n",
       "      <th>price to earnings</th>\n",
       "      <th>earnings per share</th>\n",
       "    </tr>\n",
       "  </thead>\n",
       "  <tbody>\n",
       "    <tr>\n",
       "      <th>0</th>\n",
       "      <td>AMZN</td>\n",
       "      <td>147.13</td>\n",
       "      <td>147.036</td>\n",
       "      <td>73.3866</td>\n",
       "      <td>1.9155</td>\n",
       "    </tr>\n",
       "    <tr>\n",
       "      <th>1</th>\n",
       "      <td>AAPL</td>\n",
       "      <td>188.10</td>\n",
       "      <td>187.970</td>\n",
       "      <td>30.0087</td>\n",
       "      <td>6.1296</td>\n",
       "    </tr>\n",
       "    <tr>\n",
       "      <th>2</th>\n",
       "      <td>TSLA</td>\n",
       "      <td>241.19</td>\n",
       "      <td>237.790</td>\n",
       "      <td>69.1800</td>\n",
       "      <td>3.1034</td>\n",
       "    </tr>\n",
       "    <tr>\n",
       "      <th>3</th>\n",
       "      <td>MPC</td>\n",
       "      <td>147.30</td>\n",
       "      <td>150.190</td>\n",
       "      <td>4.8242</td>\n",
       "      <td>26.7856</td>\n",
       "    </tr>\n",
       "  </tbody>\n",
       "</table>\n",
       "</div>"
      ],
      "text/plain": [
       "  Unnamed: 0  open price  current price  price to earnings  earnings per share\n",
       "0       AMZN      147.13        147.036            73.3866              1.9155\n",
       "1       AAPL      188.10        187.970            30.0087              6.1296\n",
       "2       TSLA      241.19        237.790            69.1800              3.1034\n",
       "3        MPC      147.30        150.190             4.8242             26.7856"
      ]
     },
     "execution_count": 38,
     "metadata": {},
     "output_type": "execute_result"
    }
   ],
   "source": [
    "stock_names = [\"AAPL\", \"AMZN\", \"TSLA\", \"MPC\"]\n",
    "combined_data = pd.DataFrame()\n",
    "user_input = input(\"Enter a combination of stock names (comma-separated): \")\n",
    "selected_stocks = [stock.strip().upper() for stock in user_input.split(',')]\n",
    "\n",
    "#check if the user input is valid\n",
    "invalid_stocks = set(selected_stocks) - set(stock_names)\n",
    "if invalid_stocks:\n",
    "    print(f\"Invalid stock names: {', '.join(invalid_stocks)}\")\n",
    "else:\n",
    "    for stock_name in selected_stocks:\n",
    "        csv_filename = f\"{stock_name}.csv\"\n",
    "        try:\n",
    "            # Read the CSV file and concatenate the data to the combined DataFrame\n",
    "            stock_data = pd.read_csv(csv_filename)\n",
    "            combined_data = pd.concat([combined_data, stock_data], ignore_index=True)\n",
    "        except FileNotFoundError:\n",
    "            print(f\"CSV file not found for {stock_name}\")\n",
    "\n",
    "# Display the combined DataFrame\n",
    "combined_data.head()\n",
    "\n"
   ]
  },
  {
   "cell_type": "code",
   "execution_count": 39,
   "id": "c065004f",
   "metadata": {},
   "outputs": [],
   "source": [
    "combined_data = combined_data.rename(columns={\"Unnamed: 0\": \"ticker\"})"
   ]
  },
  {
   "cell_type": "markdown",
   "id": "c4324a83",
   "metadata": {},
   "source": [
    "### Scraping 5-Year Growth Projection"
   ]
  },
  {
   "cell_type": "code",
   "execution_count": 40,
   "id": "2b768113",
   "metadata": {},
   "outputs": [],
   "source": [
    "# Yahoo Finance scrape for 5-year projections\n",
    "def fiveyear(ticker):\n",
    "    ybaseurl = 'https://finance.yahoo.com/quote/' + ticker + '/analysis?p=' + ticker\n",
    "    headers = {'User-Agent': 'Mozilla/5.0 (Windows NT 10.0; Win64; x64; rv:109.0) Gecko/20100101 Firefox/113.0'}\n",
    "    r = requests.get(ybaseurl, headers=headers)\n",
    "    soup = BeautifulSoup(r.text, 'html.parser')\n",
    "    forecast = soup.find('section', {'class': 'smartphone_Px(20px) smartphone_Pt(10px)'}).text\n",
    "\n",
    "    nfy = forecast.find('Next 5 Years (per annum)')\n",
    "    startindex = nfy + 24\n",
    "    endindex = forecast.find('%', startindex)\n",
    "    return float(forecast[startindex:endindex])"
   ]
  },
  {
   "cell_type": "markdown",
   "id": "3c01ac5b",
   "metadata": {},
   "source": [
    "### Adding growth projection field to df"
   ]
  },
  {
   "cell_type": "code",
   "execution_count": 41,
   "id": "72a81379",
   "metadata": {},
   "outputs": [
    {
     "data": {
      "text/html": [
       "<div>\n",
       "<style scoped>\n",
       "    .dataframe tbody tr th:only-of-type {\n",
       "        vertical-align: middle;\n",
       "    }\n",
       "\n",
       "    .dataframe tbody tr th {\n",
       "        vertical-align: top;\n",
       "    }\n",
       "\n",
       "    .dataframe thead th {\n",
       "        text-align: right;\n",
       "    }\n",
       "</style>\n",
       "<table border=\"1\" class=\"dataframe\">\n",
       "  <thead>\n",
       "    <tr style=\"text-align: right;\">\n",
       "      <th></th>\n",
       "      <th>ticker</th>\n",
       "      <th>open price</th>\n",
       "      <th>current price</th>\n",
       "      <th>price to earnings</th>\n",
       "      <th>earnings per share</th>\n",
       "      <th>5-year growth projection</th>\n",
       "    </tr>\n",
       "  </thead>\n",
       "  <tbody>\n",
       "    <tr>\n",
       "      <th>0</th>\n",
       "      <td>AMZN</td>\n",
       "      <td>147.13</td>\n",
       "      <td>147.036</td>\n",
       "      <td>73.3866</td>\n",
       "      <td>1.9155</td>\n",
       "      <td>87.00</td>\n",
       "    </tr>\n",
       "    <tr>\n",
       "      <th>1</th>\n",
       "      <td>AAPL</td>\n",
       "      <td>188.10</td>\n",
       "      <td>187.970</td>\n",
       "      <td>30.0087</td>\n",
       "      <td>6.1296</td>\n",
       "      <td>6.14</td>\n",
       "    </tr>\n",
       "    <tr>\n",
       "      <th>2</th>\n",
       "      <td>TSLA</td>\n",
       "      <td>241.19</td>\n",
       "      <td>237.790</td>\n",
       "      <td>69.1800</td>\n",
       "      <td>3.1034</td>\n",
       "      <td>3.63</td>\n",
       "    </tr>\n",
       "    <tr>\n",
       "      <th>3</th>\n",
       "      <td>MPC</td>\n",
       "      <td>147.30</td>\n",
       "      <td>150.190</td>\n",
       "      <td>4.8242</td>\n",
       "      <td>26.7856</td>\n",
       "      <td>-15.33</td>\n",
       "    </tr>\n",
       "  </tbody>\n",
       "</table>\n",
       "</div>"
      ],
      "text/plain": [
       "  ticker  open price  current price  price to earnings  earnings per share  \\\n",
       "0   AMZN      147.13        147.036            73.3866              1.9155   \n",
       "1   AAPL      188.10        187.970            30.0087              6.1296   \n",
       "2   TSLA      241.19        237.790            69.1800              3.1034   \n",
       "3    MPC      147.30        150.190             4.8242             26.7856   \n",
       "\n",
       "   5-year growth projection  \n",
       "0                     87.00  \n",
       "1                      6.14  \n",
       "2                      3.63  \n",
       "3                    -15.33  "
      ]
     },
     "execution_count": 41,
     "metadata": {},
     "output_type": "execute_result"
    }
   ],
   "source": [
    "combined_data['5-year growth projection'] = combined_data['ticker'].apply(fiveyear)\n",
    "combined_data.head()"
   ]
  },
  {
   "cell_type": "markdown",
   "id": "5fd227f8",
   "metadata": {},
   "source": [
    "### IV calculation, buy price, and recommendations\n",
    "Intrinsic value is based on the Graham Equation, though a future iteration should include a discounted cash flow formula"
   ]
  },
  {
   "cell_type": "markdown",
   "id": "a29765dd",
   "metadata": {},
   "source": [
    "The buy price indicates the price at which you could buy a share for 75% of the calculated instrinsic value. The 75% is correlated to each investor's own risk tolerance. A 50% discount wouldr esult in potentially zero buy signals, but 95% does not offer much hedging if market forces turn"
   ]
  },
  {
   "cell_type": "code",
   "execution_count": 42,
   "id": "886ae211",
   "metadata": {},
   "outputs": [],
   "source": [
    "#calculations\n",
    "#intrinsic Value\n",
    "def intV(row):\n",
    "    eps_value = row['earnings per share']\n",
    "    fiveyear_value = row['5-year growth projection']\n",
    "    pe_value = row['price to earnings']\n",
    "    return eps_value * (1 + (fiveyear_value * 0.01 * 0.75)) * pe_value\n",
    "\n",
    "#buy Price\n",
    "def bp(row):\n",
    "    intrinsic_value = row['intrinsic value']\n",
    "    return round(0.75 * intrinsic_value, 2)\n",
    "\n",
    "#recommendation\n",
    "def rec(row):\n",
    "    current_price = row['current price']\n",
    "    intrinsic_value = row['intrinsic value']\n",
    "    buy_price = row['buy price']\n",
    "\n",
    "    if current_price < intrinsic_value and current_price >= buy_price:\n",
    "        return 'Soft Buy'\n",
    "    elif current_price < buy_price:\n",
    "        return 'Strong Buy'\n",
    "    else:\n",
    "        return 'No Buy'"
   ]
  },
  {
   "cell_type": "markdown",
   "id": "ab0d1731",
   "metadata": {},
   "source": [
    "### Applying the functions to the df and adding an allocation percent"
   ]
  },
  {
   "cell_type": "markdown",
   "id": "6a47da80",
   "metadata": {},
   "source": [
    "The % allocation calculates how much of your cash pool you should invest in each of the analyzed tickers\n",
    "Strong Buy's are always 2x allocation of Soft Buy's."
   ]
  },
  {
   "cell_type": "code",
   "execution_count": 44,
   "id": "22c10ecf",
   "metadata": {},
   "outputs": [
    {
     "data": {
      "text/html": [
       "<div>\n",
       "<style scoped>\n",
       "    .dataframe tbody tr th:only-of-type {\n",
       "        vertical-align: middle;\n",
       "    }\n",
       "\n",
       "    .dataframe tbody tr th {\n",
       "        vertical-align: top;\n",
       "    }\n",
       "\n",
       "    .dataframe thead th {\n",
       "        text-align: right;\n",
       "    }\n",
       "</style>\n",
       "<table border=\"1\" class=\"dataframe\">\n",
       "  <thead>\n",
       "    <tr style=\"text-align: right;\">\n",
       "      <th></th>\n",
       "      <th>ticker</th>\n",
       "      <th>open price</th>\n",
       "      <th>current price</th>\n",
       "      <th>price to earnings</th>\n",
       "      <th>earnings per share</th>\n",
       "      <th>5-year growth projection</th>\n",
       "      <th>intrinsic value</th>\n",
       "      <th>buy price</th>\n",
       "      <th>recommendation</th>\n",
       "      <th>% allocation</th>\n",
       "    </tr>\n",
       "  </thead>\n",
       "  <tbody>\n",
       "    <tr>\n",
       "      <th>0</th>\n",
       "      <td>AMZN</td>\n",
       "      <td>147.13</td>\n",
       "      <td>147.036</td>\n",
       "      <td>73.3866</td>\n",
       "      <td>1.9155</td>\n",
       "      <td>87.00</td>\n",
       "      <td>232.295283</td>\n",
       "      <td>174.22</td>\n",
       "      <td>Strong Buy</td>\n",
       "      <td>66.67</td>\n",
       "    </tr>\n",
       "    <tr>\n",
       "      <th>1</th>\n",
       "      <td>AAPL</td>\n",
       "      <td>188.10</td>\n",
       "      <td>187.970</td>\n",
       "      <td>30.0087</td>\n",
       "      <td>6.1296</td>\n",
       "      <td>6.14</td>\n",
       "      <td>192.411826</td>\n",
       "      <td>144.31</td>\n",
       "      <td>Soft Buy</td>\n",
       "      <td>33.33</td>\n",
       "    </tr>\n",
       "    <tr>\n",
       "      <th>2</th>\n",
       "      <td>TSLA</td>\n",
       "      <td>241.19</td>\n",
       "      <td>237.790</td>\n",
       "      <td>69.1800</td>\n",
       "      <td>3.1034</td>\n",
       "      <td>3.63</td>\n",
       "      <td>220.538235</td>\n",
       "      <td>165.40</td>\n",
       "      <td>No Buy</td>\n",
       "      <td>0.00</td>\n",
       "    </tr>\n",
       "    <tr>\n",
       "      <th>3</th>\n",
       "      <td>MPC</td>\n",
       "      <td>147.30</td>\n",
       "      <td>150.190</td>\n",
       "      <td>4.8242</td>\n",
       "      <td>26.7856</td>\n",
       "      <td>-15.33</td>\n",
       "      <td>114.362126</td>\n",
       "      <td>85.77</td>\n",
       "      <td>No Buy</td>\n",
       "      <td>0.00</td>\n",
       "    </tr>\n",
       "  </tbody>\n",
       "</table>\n",
       "</div>"
      ],
      "text/plain": [
       "  ticker  open price  current price  price to earnings  earnings per share  \\\n",
       "0   AMZN      147.13        147.036            73.3866              1.9155   \n",
       "1   AAPL      188.10        187.970            30.0087              6.1296   \n",
       "2   TSLA      241.19        237.790            69.1800              3.1034   \n",
       "3    MPC      147.30        150.190             4.8242             26.7856   \n",
       "\n",
       "   5-year growth projection  intrinsic value  buy price recommendation  \\\n",
       "0                     87.00       232.295283     174.22     Strong Buy   \n",
       "1                      6.14       192.411826     144.31       Soft Buy   \n",
       "2                      3.63       220.538235     165.40         No Buy   \n",
       "3                    -15.33       114.362126      85.77         No Buy   \n",
       "\n",
       "   % allocation  \n",
       "0         66.67  \n",
       "1         33.33  \n",
       "2          0.00  \n",
       "3          0.00  "
      ]
     },
     "execution_count": 44,
     "metadata": {},
     "output_type": "execute_result"
    }
   ],
   "source": [
    "combined_data['intrinsic value'] = combined_data.apply(intV, axis=1)\n",
    "combined_data['buy price'] = combined_data.apply(bp, axis=1)\n",
    "combined_data['recommendation'] = combined_data.apply(rec, axis=1)\n",
    "combined_data['% allocation'] = 0  # Initialize the column with zeros\n",
    "combined_data.loc[combined_data['recommendation'] == 'No Buy', '% allocation'] = 0\n",
    "combined_data.loc[combined_data['recommendation'] == 'Soft Buy', '% allocation'] = 1\n",
    "combined_data.loc[combined_data['recommendation'] == 'Strong Buy', '% allocation'] = 2\n",
    "total_allocation = combined_data['% allocation'].sum()\n",
    "combined_data['% allocation'] = round(combined_data['% allocation'] / total_allocation * 100, 2)\n",
    "combined_data.head()"
   ]
  },
  {
   "cell_type": "markdown",
   "id": "7637cb45",
   "metadata": {},
   "source": [
    "### Visuals to provide a snapshot of the findings"
   ]
  },
  {
   "cell_type": "markdown",
   "id": "ff2b76c8",
   "metadata": {},
   "source": [
    "These candles represent the open price versus the current price (dummy numbers in the CSV). Green indicates positive price action, red indicates negative price action.\n",
    "\n",
    "Y axis labels represent open and current prices"
   ]
  },
  {
   "cell_type": "code",
   "execution_count": 32,
   "id": "45fafaf8",
   "metadata": {},
   "outputs": [
    {
     "data": {
      "image/png": "[encoded data removed]",
      "text/plain": [
       "<Figure size 100x100 with 1 Axes>"
      ]
     },
     "metadata": {},
     "output_type": "display_data"
    },
    {
     "data": {
      "image/png": "[encoded data removed]",
      "text/plain": [
       "<Figure size 100x100 with 1 Axes>"
      ]
     },
     "metadata": {},
     "output_type": "display_data"
    }
   ],
   "source": [
    "#candles at a glance\n",
    "\n",
    "color1 = 'green'\n",
    "color2 = 'red'\n",
    "width = 0.2 \n",
    "fig_size = (1, 1)\n",
    "\n",
    "#iterate over rows\n",
    "for i, (index, row) in enumerate(combined_data.iterrows()):\n",
    "    plt.figure(figsize=fig_size)  # Set the size of each plot\n",
    "    current_price = row['current price']\n",
    "    open_price = row['open price']\n",
    "    \n",
    "    if current_price >= open_price:\n",
    "        plt.bar(0, current_price - open_price, width, bottom=open_price, color=color1)\n",
    "    else:\n",
    "        plt.bar(0, open_price - current_price, width, bottom=current_price, color=color2)\n",
    "\n",
    "    plt.title(combined_data.loc[index, 'ticker'])\n",
    "    ylim_lower = min(open_price, current_price) - 0.3 * abs(current_price - open_price)\n",
    "    ylim_upper = max(open_price, current_price) + 0.3 * abs(current_price - open_price)\n",
    "    plt.ylim(ylim_lower, ylim_upper)\n",
    "    plt.yticks([open_price, current_price])\n",
    "    plt.xticks([])\n",
    "    plt.show()"
   ]
  },
  {
   "cell_type": "markdown",
   "id": "05f7923f",
   "metadata": {},
   "source": [
    "### Buy price ratio simply indicates risk tolerance. As the proportion of the buy price to current price decreases, the likelihood that the share value (within the confines of this analysis) is inflated."
   ]
  },
  {
   "cell_type": "code",
   "execution_count": 36,
   "id": "57f54ef7",
   "metadata": {},
   "outputs": [
    {
     "data": {
      "image/png": "[encoded data removed]",
      "text/plain": [
       "<Figure size 800x500 with 1 Axes>"
      ]
     },
     "metadata": {},
     "output_type": "display_data"
    }
   ],
   "source": [
    "#buy Price to Current Price Ratio\n",
    "rows = combined_data.index\n",
    "buy_price_ratio = combined_data['buy price'] / combined_data['current price']\n",
    "\n",
    "#sort indices based on the buy price ratio in descending order\n",
    "sorted_indices = buy_price_ratio.argsort()[::-1]\n",
    "\n",
    "\n",
    "colors = {'Strong Buy': 'green', 'Soft Buy': 'lightblue', 'No Buy': 'red'}\n",
    "plt.figure(figsize=(8, 5))\n",
    "bars = plt.bar(sorted_indices, buy_price_ratio.iloc[sorted_indices], color=[colors[rec] for rec in combined_data['recommendation'].iloc[sorted_indices]], edgecolor='black')\n",
    "plt.title('Buy Price Ratio by Ticker')\n",
    "plt.xlabel('Ticker')\n",
    "plt.ylabel('Buy Price Ratio')\n",
    "plt.xticks(sorted_indices, [combined_data.loc[index, 'ticker'] for index in sorted_indices])\n",
    "\n",
    "for bar, ratio, rec, index in zip(bars, buy_price_ratio.iloc[sorted_indices], combined_data['recommendation'].iloc[sorted_indices], sorted_indices):\n",
    "    plt.text(bar.get_x() + bar.get_width() / 2, bar.get_height(), f'{ratio:.2f}', ha='center', va='bottom', color='black', weight='bold')\n",
    "\n",
    "legend_handles = [plt.Rectangle((0, 0), 1, 1, color=colors[rec]) for rec in colors]\n",
    "plt.legend(legend_handles, colors.keys(), title='Recommendation', loc='lower right')\n",
    "\n",
    "plt.show()\n"
   ]
  },
  {
   "cell_type": "markdown",
   "id": "093e0d6c",
   "metadata": {},
   "source": [
    "### Adding a simple pie chart to represent suggested allocation of the analyzed tickers"
   ]
  },
  {
   "cell_type": "code",
   "execution_count": 48,
   "id": "6942f1fc",
   "metadata": {},
   "outputs": [
    {
     "data": {
      "image/png": "[encoded data removed]",
      "text/plain": [
       "<Figure size 800x800 with 1 Axes>"
      ]
     },
     "metadata": {},
     "output_type": "display_data"
    }
   ],
   "source": [
    "filtered_tickers = combined_data[combined_data['% allocation'] > 0]\n",
    "plt.figure(figsize=(8, 8))\n",
    "plt.pie(filtered_tickers['% allocation'], labels=filtered_data['ticker'], autopct='%1.1f%%', startangle=90, colors=['lightblue', 'lightgreen'])\n",
    "plt.title('Equity Allocation')\n",
    "plt.show()"
   ]
  }
 ],
 "metadata": {
  "kernelspec": {
   "display_name": "Python 3 (ipykernel)",
   "language": "python",
   "name": "python3"
  },
  "language_info": {
   "codemirror_mode": {
    "name": "ipython",
    "version": 3
   },
   "file_extension": ".py",
   "mimetype": "text/x-python",
   "name": "python",
   "nbconvert_exporter": "python",
   "pygments_lexer": "ipython3",
   "version": "3.11.6"
  }
 },
 "nbformat": 4,
 "nbformat_minor": 5
}
